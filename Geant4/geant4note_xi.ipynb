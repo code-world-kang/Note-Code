{
 "cells": [
  {
   "cell_type": "markdown",
   "metadata": {
    "toc": true
   },
   "source": [
    "<h1>Table of Contents<span class=\"tocSkip\"></span></h1>\n",
    "<div class=\"toc\"><ul class=\"toc-item\"><li><span><a href=\"#编译运行Geant4中B1示例\" data-toc-modified-id=\"编译运行Geant4中B1示例-1\"><span class=\"toc-item-num\">1&nbsp;&nbsp;</span>编译运行Geant4中B1示例</a></span></li><li><span><a href=\"#编译运行sim(杨彪编写)代码\" data-toc-modified-id=\"编译运行sim(杨彪编写)代码-2\"><span class=\"toc-item-num\">2&nbsp;&nbsp;</span>编译运行sim(杨彪编写)代码</a></span><ul class=\"toc-item\"><li><span><a href=\"#Error1:/usr/bin/ld:-找不到--lMathMore（参考网站）\" data-toc-modified-id=\"Error1:/usr/bin/ld:-找不到--lMathMore（参考网站）-2.1\"><span class=\"toc-item-num\">2.1&nbsp;&nbsp;</span>Error1:/usr/bin/ld: 找不到 -lMathMore（<a href=\"https://blog.csdn.net/a922922737/article/details/109697291\" rel=\"nofollow\" target=\"_blank\">参考网站</a>）</a></span></li><li><span><a href=\"#to-be-continued\" data-toc-modified-id=\"to-be-continued-2.2\"><span class=\"toc-item-num\">2.2&nbsp;&nbsp;</span>to be continued</a></span></li></ul></li><li><span><a href=\"#to-be-continued\" data-toc-modified-id=\"to-be-continued-3\"><span class=\"toc-item-num\">3&nbsp;&nbsp;</span>to be continued</a></span></li></ul></div>"
   ]
  },
  {
   "cell_type": "markdown",
   "metadata": {},
   "source": [
    "# 编译运行Geant4中B1示例\n",
    "\n",
    "- 拷贝B1到目标文件夹(根据自己的geant4安装路径修改)\n",
    "  - `cp /opt/Geant4/geant41004/share/Geant4-10.4.0/examples/basic /home/username/ `\n",
    "- 进入复制的B1文件夹\n",
    "  - `cd /home/username/B1`\n",
    "- 创建build文件夹\n",
    "  - `mkdir build`\n",
    "- 进入build文件夹，并编译\n",
    "  - `cd build`\n",
    "  - `cmake ..`\n",
    "- make&&make install\n",
    "  - `make -j8`\n",
    "  - `make install`\n",
    "- 运行./exampleB1\n",
    "  - `./exampleB1`\n",
    "\n",
    "运行结果如图：\n",
    "![avatar](./G4pic/G4exampleB1.png)"
   ]
  },
  {
   "cell_type": "markdown",
   "metadata": {},
   "source": [
    "# 编译运行sim(杨彪编写)代码\n",
    "\n",
    "- 复制完整的sim包(包括相关参数文件、数据文件等等)\n",
    "- 修改/sim/sim/CMakeLists.txt文件夹相关路径\n",
    "  - 特别是yblib：`set(YB_LIB_DIR /[filepath]/sim/yblib)`\n",
    "  - root库：`set(ROOT_INCLUDE_DIR /opt/root61600/include) `\n",
    "- 进步/[filepath]/sim/sim/build文件夹，执行`cmake ..`\n",
    "  - 如若报错需要确认上步路径是否修改正确，或删除该文件夹下非G4的cmake生成的文件夹（可与B1对比）\n",
    "- 运行`make -j8'，生成可执行文件sim\n",
    "\n",
    "- 运行./sim\n",
    "  - ./sim phy：物理模拟, 生成文件存入/simfile/\n",
    "  - ./sim vis：可视化\n",
    "  - ./sim kin：运动学计算，生成文件存入/kinfile/\n",
    "- to be continued\n",
    "\n",
    "## Error1:/usr/bin/ld: 找不到 -lMathMore（[参考网站](https://blog.csdn.net/a922922737/article/details/109697291)）\n",
    "\n",
    "- 意思是找不到boost_serialization共享库，这个库的文件名应该为“libboost_serializatio.so”，其命名规则是：lib+库名(即xxx)+.so。\n",
    "- 用locate命令定位XXX库文件\n",
    "  - `locate libMathMore.so`\n",
    "  - 输出结果：/opt/root61600/lib/libMathMore.so\n",
    "- 再用软链接将两者链接起来\n",
    "  - `sudo ln -s /opt/root61600/lib/libMathMore.so /usr/lib/libMathMore.so`\n",
    "  \n",
    "## to be continued"
   ]
  },
  {
   "cell_type": "markdown",
   "metadata": {},
   "source": [
    "运行 ./sim vis结果如图：\n",
    "![avatar](./G4pic/sim_hjx.png)"
   ]
  },
  {
   "cell_type": "markdown",
   "metadata": {},
   "source": [
    "# to be continued\n",
    " "
   ]
  },
  {
   "cell_type": "code",
   "execution_count": 4,
   "metadata": {
    "scrolled": true
   },
   "outputs": [
    {
     "name": "stdout",
     "output_type": "stream",
     "text": [
      "[NbConvertApp] Converting notebook geant4note_xi.ipynb to html\n",
      "\n",
      "[NbConvertApp] Writing 278129 bytes to geant4note_xi.html\n",
      "\n"
     ]
    }
   ],
   "source": [
    "!jupyter nbconvert geant4note_xi.ipynb --to html"
   ]
  },
  {
   "cell_type": "code",
   "execution_count": null,
   "metadata": {},
   "outputs": [],
   "source": []
  }
 ],
 "metadata": {
  "kernelspec": {
   "display_name": "ROOT C++",
   "language": "c++",
   "name": "root"
  },
  "language_info": {
   "codemirror_mode": "text/x-c++src",
   "file_extension": ".C",
   "mimetype": " text/x-c++src",
   "name": "c++"
  },
  "toc": {
   "base_numbering": 1,
   "nav_menu": {},
   "number_sections": true,
   "sideBar": true,
   "skip_h1_title": false,
   "title_cell": "Table of Contents",
   "title_sidebar": "Contents",
   "toc_cell": true,
   "toc_position": {},
   "toc_section_display": true,
   "toc_window_display": true
  }
 },
 "nbformat": 4,
 "nbformat_minor": 5
}
