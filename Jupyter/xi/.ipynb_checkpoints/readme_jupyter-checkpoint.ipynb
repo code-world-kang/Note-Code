{
 "cells": [
  {
   "cell_type": "markdown",
   "metadata": {
    "toc": true
   },
   "source": [
    "<h1>Table of Contents<span class=\"tocSkip\"></span></h1>\n",
    "<div class=\"toc\"><ul class=\"toc-item\"><li><span><a href=\"#Jupyter-Notebook\" data-toc-modified-id=\"Jupyter-Notebook-1\"><span class=\"toc-item-num\">1&nbsp;&nbsp;</span>Jupyter Notebook</a></span></li><li><span><a href=\"#Jupyter-Notebook安装\" data-toc-modified-id=\"Jupyter-Notebook安装-2\"><span class=\"toc-item-num\">2&nbsp;&nbsp;</span>Jupyter Notebook安装</a></span></li><li><span><a href=\"#Jupyter-Notebook配置\" data-toc-modified-id=\"Jupyter-Notebook配置-3\"><span class=\"toc-item-num\">3&nbsp;&nbsp;</span>Jupyter Notebook配置</a></span><ul class=\"toc-item\"><li><span><a href=\"#创建配置文件并修改\" data-toc-modified-id=\"创建配置文件并修改-3.1\"><span class=\"toc-item-num\">3.1&nbsp;&nbsp;</span>创建配置文件并修改</a></span></li><li><span><a href=\"#Jupyter更改默认浏览器\" data-toc-modified-id=\"Jupyter更改默认浏览器-3.2\"><span class=\"toc-item-num\">3.2&nbsp;&nbsp;</span>Jupyter更改默认浏览器</a></span></li><li><span><a href=\"#设置密码\" data-toc-modified-id=\"设置密码-3.3\"><span class=\"toc-item-num\">3.3&nbsp;&nbsp;</span>设置密码</a></span></li><li><span><a href=\"#其他设置\" data-toc-modified-id=\"其他设置-3.4\"><span class=\"toc-item-num\">3.4&nbsp;&nbsp;</span>其他设置</a></span></li><li><span><a href=\"#jupyter添加Content\" data-toc-modified-id=\"jupyter添加Content-3.5\"><span class=\"toc-item-num\">3.5&nbsp;&nbsp;</span>jupyter添加Content</a></span></li></ul></li><li><span><a href=\"#防火墙端口设置\" data-toc-modified-id=\"防火墙端口设置-4\"><span class=\"toc-item-num\">4&nbsp;&nbsp;</span>防火墙端口设置</a></span></li><li><span><a href=\"#Markerdown语法说明\" data-toc-modified-id=\"Markerdown语法说明-5\"><span class=\"toc-item-num\">5&nbsp;&nbsp;</span>Markerdown语法说明</a></span></li><li><span><a href=\"#Markdown中公式编辑教程\" data-toc-modified-id=\"Markdown中公式编辑教程-6\"><span class=\"toc-item-num\">6&nbsp;&nbsp;</span>Markdown中公式编辑教程</a></span></li><li><span><a href=\"#ERROR\" data-toc-modified-id=\"ERROR-7\"><span class=\"toc-item-num\">7&nbsp;&nbsp;</span>ERROR</a></span><ul class=\"toc-item\"><li><span><a href=\"#Error1\" data-toc-modified-id=\"Error1-7.1\"><span class=\"toc-item-num\">7.1&nbsp;&nbsp;</span>Error1</a></span></li><li><span><a href=\"#Error2\" data-toc-modified-id=\"Error2-7.2\"><span class=\"toc-item-num\">7.2&nbsp;&nbsp;</span>Error2</a></span></li><li><span><a href=\"#Error3\" data-toc-modified-id=\"Error3-7.3\"><span class=\"toc-item-num\">7.3&nbsp;&nbsp;</span>Error3</a></span></li><li><span><a href=\"#Error4\" data-toc-modified-id=\"Error4-7.4\"><span class=\"toc-item-num\">7.4&nbsp;&nbsp;</span>Error4</a></span></li><li><span><a href=\"#Error5\" data-toc-modified-id=\"Error5-7.5\"><span class=\"toc-item-num\">7.5&nbsp;&nbsp;</span>Error5</a></span></li><li><span><a href=\"#Error6\" data-toc-modified-id=\"Error6-7.6\"><span class=\"toc-item-num\">7.6&nbsp;&nbsp;</span>Error6</a></span></li><li><span><a href=\"#Error7\" data-toc-modified-id=\"Error7-7.7\"><span class=\"toc-item-num\">7.7&nbsp;&nbsp;</span>Error7</a></span></li></ul></li></ul></div>"
   ]
  },
  {
   "cell_type": "markdown",
   "metadata": {},
   "source": [
    "# Jupyter Notebook"
   ]
  },
  {
   "cell_type": "markdown",
   "metadata": {},
   "source": [
    "**注意事项：**\n",
    "- jupyter中想要添加ROOT C++的notebook需要ROOT6及以上版本。\n",
    "\n",
    "- 测试发现，ROOT6.12.06版本在创建ROOT C++的notebook在编写时会有bug，网页卡死、报错、jupyter内核卡死，更换ROOT6.16.00版本后正常。\n",
    "\n",
    "- 建议用google浏览器。\n",
    "\n",
    "- 北京大学[李智焕老师](https://faculty.pku.edu.cn/lizhihuan/zh_CN/index.htm)的[核物理实验方法](https://zhihuanli.github.io/Experimental-Method-in-Nuclear-Physics/)以及[数据分析](https://zhihuanli.github.io/Experimental-Data-Analysis-Course/)课程中有关jupyter启动教程适用于服务器。在服务器中键入`jupyter notebook`没有ROOT C++，输入`root - - notebook`才会出现ROOT C++。\n",
    "  - 原因是服务器中使用的是`module load`方法加载的root软件，改用source path/root/bin/thisroot.sh后则可用`jupyter notebook`启用ROOT C++；"
   ]
  },
  {
   "cell_type": "markdown",
   "metadata": {},
   "source": [
    "# Jupyter Notebook安装\n",
    "\n",
    "**安装与配置具体可参考网页：https://blog.csdn.net/xushu_me/article/details/104066613**\n",
    "\n",
    "**以下为简要安装步骤：**\n",
    "- 1 安装Python2或者Python3(此处以Python3为例说明)；\n",
    "  - yum install python3\n",
    "  - python3 --version\n",
    "- 2 安装Python的包管理器pip；\n",
    "  - python3 -m pip install --upgrade pip\n",
    "  - pip install jupyter metakernel zmq 或者pip3 install jupyter metakernel zmq\n",
    "  - pip install Markdown 或者 pip3 install Markdown\n",
    "- 3 使用pip安装Jupyter以及所需的IPython；\n",
    "  - pip3 install jupyter\n",
    "  - pip3 install ipython"
   ]
  },
  {
   "cell_type": "markdown",
   "metadata": {},
   "source": [
    "# Jupyter Notebook配置\n",
    "\n",
    "## 创建配置文件并修改\n",
    "- 1 创建jupyter_notebook_config.py （如果早期安装好，该文件已经存在，跳过此步骤）；\n",
    "   - jupyter notebook --generate-config\n",
    "- 2 打开并修改jupyter_notebook_config.py；\n",
    "  - vim ～/.jupyter/jupyter_notebook_config.py\n",
    "  \n",
    "## Jupyter更改默认浏览器\n",
    "- 1 查看浏览器位置（以google-chrome为例子）；\n",
    "  - which google-chorme后会显示/usr/bin/google-chrome\n",
    "- 2 在jupyter_notebook_config.py中找到# c.NotebookApp.browser = ''命令行，将第3步的地址添加进去；\n",
    "  - c.NotebookApp.browser = '/usr/bin/google-chrome'\n",
    "  \n",
    "## 设置密码\n",
    "- 1 进入python\n",
    "  - ipython\n",
    "- 2 键入本条命令\n",
    "  - from notebook.auth import passwd\n",
    "- 3 键入本条命令\n",
    "  - passwd()\n",
    "- 4 键入密码\n",
    "  - Enter password:\n",
    "- 5 确认密码\n",
    "  - verify password:\n",
    "- 6 输出密钥\n",
    "  - Out:'...................................................'\n",
    "- 7 修改jupyter_notebook_config.py中对应文件\n",
    "  - c.NotebookApp.password =u'sha1:……'\n",
    "  \n",
    "## 其他设置\n",
    "\n",
    "- 1设置访问IP，*代表任意IP，注释掉以主机名访问，多用于本地访问；\n",
    "  - c.NotebookApp.ip = \"*\"\n",
    "- 2 是(True)否(False)网页自动打开，服务器一般用False，个人用户用True；\n",
    "  - c.NotebookApp.open_browser = False`\n",
    "- 3 设置jupyter访问端口，与防火墙相关；\n",
    "  - c.NotebookApp.port = 8888\n",
    "- 4 设置运行时的目录，即打开jupyter默认所在路径；\n",
    "  - c.NotebookApp.notebook_dir = '/Your/Directory'\n",
    "  \n",
    "## jupyter添加Content\n",
    "- 添加nbextensions插件\n",
    "  - pip3 install jupyter_contrib_nbextensions\n",
    "- 配置nbextensions插件\n",
    "  - jupyter contrib nbextension install --user\n",
    "- 进入jupyter打开Nbextensions选项卡，勾选“Table of Contents”"
   ]
  },
  {
   "cell_type": "markdown",
   "metadata": {},
   "source": [
    "# 防火墙端口设置\n",
    "\n",
    "- 查看防火墙当前状态和所有的服务状态\n",
    "  - firewall-cmd --list-all\n",
    "- 查看已经被允许的服务\n",
    "  - firewall-cmd --list-services\n",
    "- 查看防火墙是否开启了某个端口\n",
    "  - firewall-cmd --query-port=8888/tcp\n",
    "- 开启端口\n",
    "  - firewall-cmd --zone=public --add-port=8888/tcp --permanent\n",
    "- 关闭端口\n",
    "  - firewall-cmd --remove-port=8888/tcp --permanent\n",
    "- 重启防火墙（执行开启关闭操作后需要重启，切记）\n",
    "  - firewall-cmd --reload"
   ]
  },
  {
   "cell_type": "markdown",
   "metadata": {},
   "source": [
    "# Markerdown语法说明"
   ]
  },
  {
   "cell_type": "markdown",
   "metadata": {},
   "source": [
    "- 参考网页：https://www.zhihu.com/question/20409634/answer/90728572"
   ]
  },
  {
   "cell_type": "markdown",
   "metadata": {},
   "source": [
    "# Markdown中公式编辑教程"
   ]
  },
  {
   "cell_type": "markdown",
   "metadata": {},
   "source": [
    "- 具体可参考网页：https://www.jianshu.com/p/25f0139637b7"
   ]
  },
  {
   "cell_type": "markdown",
   "metadata": {},
   "source": [
    "# ERROR"
   ]
  },
  {
   "cell_type": "markdown",
   "metadata": {},
   "source": [
    "## Error1\n",
    "- 输出‘OSError: [Errno 99] Cannot assign requested address’\n",
    "  - 解决办法：IP或者端口配置错误。\n",
    "\n",
    "## Error2\n",
    "- 给定了端口依然无法打开。\n",
    "  - 解决办法：防火墙原因，端口被锁死，需要查看防火墙端口设置。\n",
    "\n",
    "## Error3\n",
    "- Config option 'template_path' not recognized by 'ExporterCollapsibleHeadings'.  Did you mean one of: 'extra_template_paths, template_name, template_paths`?\n",
    "  - 解决办法：pip3 install nbconvert==5.6.1\n",
    "  \n",
    "## Error4\n",
    "- 加载插件 voila.server_extension 失败\n",
    "  - 解决办法：pip3 install voila\n",
    "  \n",
    "**说明：**\n",
    "- Error3和Error4是相依的，当安装voila时，会自动升级nbconvert到6.0.1；而当nbconvet降级安装到5.6.1时，voila则无法启动；\n",
    "  - 解决办法：pip3 install voila==0.1.9\n",
    "- **Error3和Error4与jupyter添加Content有关**\n",
    "\n",
    "## Error5\n",
    "- 输出`ModuleNotFoundError: No module named 'metakernel'`\n",
    "  - 解决办法：`pip install jupyter metakernel zm`\n",
    "  \n",
    "## Error6\n",
    "- 输出：ERROR:asyncio:Exception in callback <TaskStepMethWrapper object at 0x7f3ae382c400>()\n",
    "  - 解决办法：pip install jupyter-client==6.1.12 -i https://pypi.tuna.tsinghua.edu.cn/simple/\n",
    "  \n",
    "## Error7\n",
    "- 警告诸如：'notebook_dir' has moved from NotebookApp to ServerApp. This config will be passed to ServerApp. Be sure to update your config before our next release.\n",
    "  - 解决办法：pip uninstall jupyterlab"
   ]
  },
  {
   "cell_type": "code",
   "execution_count": 1,
   "metadata": {},
   "outputs": [
    {
     "name": "stdout",
     "output_type": "stream",
     "text": [
      "[NbConvertApp] Converting notebook readme_jupyter.ipynb to html\n",
      "\n",
      "[NbConvertApp] Writing 286323 bytes to readme_jupyter.html\n",
      "\n"
     ]
    }
   ],
   "source": [
    "!jupyter nbconvert readme_jupyter.ipynb --to html"
   ]
  },
  {
   "cell_type": "code",
   "execution_count": null,
   "metadata": {},
   "outputs": [],
   "source": []
  }
 ],
 "metadata": {
  "kernelspec": {
   "display_name": "ROOT C++",
   "language": "c++",
   "name": "root"
  },
  "language_info": {
   "codemirror_mode": "text/x-c++src",
   "file_extension": ".C",
   "mimetype": " text/x-c++src",
   "name": "c++"
  },
  "toc": {
   "base_numbering": 1,
   "nav_menu": {},
   "number_sections": true,
   "sideBar": true,
   "skip_h1_title": false,
   "title_cell": "Table of Contents",
   "title_sidebar": "Contents",
   "toc_cell": true,
   "toc_position": {},
   "toc_section_display": true,
   "toc_window_display": true
  }
 },
 "nbformat": 4,
 "nbformat_minor": 4
}
