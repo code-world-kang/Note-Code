{
 "cells": [
  {
   "cell_type": "markdown",
   "metadata": {},
   "source": [
    "<h1>关于jupyter软件的笔记本目录<span class=\"tocSkip\"></span></h1><div class=\"toc\"><ul class=\"toc-item\">\n",
    "   <li><span><a href=\"#jupyter的安装\" >jupyter的安装</a></span></li>\n",
    "   <li><span><a href=\"#jupyter的配置\" >jupyter的配置</a></span></li>\n",
    "   <li><span><a href=\"#jupyter命令\" >jupyter命令</a></span></li>\n",
    "   <li><span><a href=\"#markdown的相关语法\">markdown的相关语法</a></span><ul>     \n",
    "   <li><span><a href=\"#利用html生成markdown目录\" >利用html生成markdown目录</a></span>\n",
    "   <li><span><a href=\"#markdown命令\" >markdown命令</a></span></ul>\n",
    "<li><span><a href=\"#to-be-continued\" >目录文本</a></span></li></ul></div>"
   ]
  },
  {
   "cell_type": "markdown",
   "metadata": {},
   "source": [
    "# jupyter的安装"
   ]
  },
  {
   "cell_type": "markdown",
   "metadata": {},
   "source": [
    "**安装与配置具体可参考网页：https://blog.csdn.net/xushu_me/article/details/104066613**\n",
    "\n",
    "**以下为简要安装步骤：**\n",
    "- 1 安装Python2或者Python3(此处以Python3为例说明)；\n",
    "  - yum install python3\n",
    "  - python3 --version\n",
    "- 2 安装Python的包管理器pip；\n",
    "  - python3 -m pip install --upgrade pip\n",
    "  - pip install jupyter metakernel zmq 或者pip3 install jupyter metakernel zmq\n",
    "  - pip install Markdown 或者 pip3 install Markdown\n",
    "- 3 使用pip安装Jupyter以及所需的IPython；\n",
    "  - pip3 install jupyter\n",
    "  - pip3 install ipython"
   ]
  },
  {
   "cell_type": "markdown",
   "metadata": {},
   "source": [
    "# jupyter的配置"
   ]
  },
  {
   "cell_type": "markdown",
   "metadata": {},
   "source": [
    "**注意事项：**\n",
    "- jupyter中想要添加ROOT C++的notebook需要ROOT6及以上版本。\n",
    "\n",
    "- 测试发现，ROOT6.12.06版本在创建ROOT C++的notebook在编写时会有bug，网页卡死、报错、jupyter内核卡死，更换ROOT6.16.00版本后正常。\n",
    "\n",
    "- 建议用google浏览器。\n",
    "\n",
    "- 北京大学[李智焕老师](https://faculty.pku.edu.cn/lizhihuan/zh_CN/index.htm)的[核物理实验方法](https://zhihuanli.github.io/Experimental-Method-in-Nuclear-Physics/)以及[数据分析](https://zhihuanli.github.io/Experimental-Data-Analysis-Course/)课程中有关jupyter启动教程适用于服务器。在服务器中键入`jupyter notebook`没有ROOT C++，输入`root --notebook`才会出现ROOT C++。\n",
    "  - 原因是服务器中使用的是`module load`方法加载的root软件，改用source path/root/bin/thisroot.sh后则可用`jupyter notebook`启用ROOT C++；"
   ]
  },
  {
   "cell_type": "markdown",
   "metadata": {},
   "source": [
    "## 创建配置文件并修改\n",
    "- 1 创建jupyter_notebook_config.py （如果早期安装好，该文件已经存在，跳过此步骤）；\n",
    "   - jupyter notebook --generate-config\n",
    "- 2 打开并修改jupyter_notebook_config.py；\n",
    "  - vim ～/.jupyter/jupyter_notebook_config.py\n",
    "  \n",
    "## Jupyter更改默认浏览器\n",
    "- 1 查看浏览器位置（以google-chrome为例子）；\n",
    "  - which google-chorme后会显示/usr/bin/google-chrome\n",
    "- 2 在jupyter_notebook_config.py中找到# c.NotebookApp.browser = ''命令行，将第3步的地址添加进去；\n",
    "  - c.NotebookApp.browser = '/usr/bin/google-chrome'\n",
    "  \n",
    "## 设置密码\n",
    "- 1 进入python\n",
    "  - ipython\n",
    "- 2 键入本条命令\n",
    "  - from notebook.auth import passwd\n",
    "- 3 键入本条命令\n",
    "  - passwd()\n",
    "- 4 键入密码\n",
    "  - Enter password:\n",
    "- 5 确认密码\n",
    "  - verify password:\n",
    "- 6 输出密钥\n",
    "  - Out:'...................................................'\n",
    "- 7 修改jupyter_notebook_config.py中对应文件\n",
    "  - c.NotebookApp.password =u'sha1:……'\n",
    "  \n",
    "## 其他设置\n",
    "\n",
    "- 1设置访问IP，*代表任意IP，注释掉以主机名访问，多用于本地访问；\n",
    "  - c.NotebookApp.ip = \"*\"\n",
    "- 2 是(True)否(False)网页自动打开，服务器一般用False，个人用户用True；\n",
    "  - c.NotebookApp.open_browser = False`\n",
    "- 3 设置jupyter访问端口，与防火墙相关；\n",
    "  - c.NotebookApp.port = 8888\n",
    "- 4 设置运行时的目录，即打开jupyter默认所在路径；\n",
    "  - c.NotebookApp.notebook_dir = '/Your/Directory'\n",
    "  \n",
    "## jupyter添加Content\n",
    "- 添加nbextensions插件\n",
    "  - pip3 install jupyter_contrib_nbextensions\n",
    "- 配置nbextensions插件\n",
    "  - jupyter contrib nbextension install --user\n",
    "- 进入jupyter打开Nbextensions选项卡，勾选“Table of Contents”"
   ]
  },
  {
   "cell_type": "markdown",
   "metadata": {},
   "source": [
    "# jupyter命令"
   ]
  },
  {
   "cell_type": "markdown",
   "metadata": {},
   "source": [
    "# markdown的语法"
   ]
  },
  {
   "cell_type": "markdown",
   "metadata": {},
   "source": [
    "## 利用html生成markdown目录"
   ]
  },
  {
   "cell_type": "markdown",
   "metadata": {},
   "source": [
    "```\n",
    "<h1>关于jupyter软件的笔记本目录<span class=\"tocSkip\"></span></h1><div class=\"toc\"><ul class=\"toc-item\">\n",
    "   <li><span><a href=\"#jupyter的安装\" >jupyter的配置</a></span></li>\n",
    "   <li><span><a href=\"#jupyter命令\" >jupyter命令</a></span></li>\n",
    "   <li><span><a href=\"#markdown的相关语法\">markdown的相关语法</a></span><ul>     \n",
    "   <li><span><a href=\"# 利用html生成markdown目录\" >利用html生成markdown目录</a></span>\n",
    "   <li><span><a href=\"# markdown命令\" >markdown命令</a></span></ul>\n",
    "<li><span><a href=\"#to-be-continued\" >目录文本</a></span></li></ul></div>\n",
    "```"
   ]
  },
  {
   "cell_type": "markdown",
   "metadata": {},
   "source": [
    "## markdown命令"
   ]
  },
  {
   "cell_type": "markdown",
   "metadata": {},
   "source": [
    "[Markdown官方简单教程](https://markdown.com.cn/basic-syntax/links.html)\n",
    "常用的总结：\n",
    "前面带#+空格表示标题\n",
    "两个空格+enter表示换行  \n",
    "间隔一行表示换行\n",
    "强调前后两个**，快捷方式ctrl+B，斜体前后一个_，斜体强调三个***\n",
    "要创建块引用，请在段落前添加一个` > `符号，不知道引用有什么用\n",
    "**列表的显示**\n",
    "Markdown语法 | 预览效果 |\n",
    "---------|----------|---------\n",
    " `1. First item`  | B1 | 1. First item\n",
    "加*,-,+都会表示出不同的效果，例如\n",
    "\n",
    "```markdown\n",
    "1. Third item\n",
    "    - Indented item\n",
    "* Indented item\n",
    "- Fourth item\n",
    "```\n",
    "\n",
    "**代码**\n",
    "如果你要表示为代码的单词或短语中包含一个或多个反引号，则可以通过将单词或短语包裹在双反引号(``)中，若但是代码块可以放在六个反引号（``````）中，或将代码块的每一行缩进至少四个空格或一个制表符\n",
    "\n",
    "```markdown\n",
    "<html>\n",
    "      <head>\n",
    "      </head>\n",
    "    </html>\n",
    "```\n",
    "\n",
    "要创建分隔线，请在单独一行上使用三个或多个星号 (***)、破折号 (---) 或下划线 (___) ，并且不能包含其他内容。\n",
    "\n",
    "**添加连接**\n",
    "链接文本放在中括号内，链接地址放在后面的括号中，链接title可选\n",
    "超链接Markdown语法代码：`[超链接显示名](超链接地址 \"超链接title\")`\n",
    "\n",
    "```markdown\n",
    "这是一个链接 [Markdown语法](https://markdown.com.cn \"最好的代码教程  \")\n",
    "<https://markdown.com.cn>\n",
    "<fake@example.com>\n",
    "[1]: https://en.wikipedia.org/wiki/Hobbit#Lifestyle\n",
    "[1]: https://en.wikipedia.org/wiki/Hobbit#Lifestyle \"Hobbit lifestyles\"\n",
    "```\n",
    "\n",
    "这是一个链接 [Markdown语法](https://markdown.com.cn \"最好的代码教程  \")\n",
    "<https://markdown.com.cn>\n",
    "<fake@example.com>\n",
    "[1]: <https://en.wikipedia.org/wiki/Hobbit#Lifestyle>\n",
    "[1]: <https://en.wikipedia.org/wiki/Hobbit#Lifestyle> \"Hobbit lifestyles\"\n",
    "\n",
    "**插入图片**\n",
    "插入图片Markdown语法代码：`![图片alt](图片链接 \"图片title\")`。\n",
    "对应的HTML代码：`<img src=\"图片链接\" alt=\"图片alt\" title=\"图片title\">`\n",
    "\n",
    "```markdown\n",
    "![这是图片](路径/garden.jpg \"Magic Gardens\")\n",
    "[![沙漠中的岩石图片](/assets/img/shiprock.jpg \"Shiprock\")](https://markdown.com.cn)\n",
    "```\n",
    "\n",
    "**转义字符**\n",
    "要显示原本用于格式化 Markdown 文档的字符，请在字符前面添加反斜杠字符 (\\\\),例如\n",
    "\n",
    "```markdown\n",
    "\\* Without the backslash\n",
    "\\{},\\[],\\&,\\<,\\....\n",
    "```\n",
    "\n",
    "\\* Without the backslash  \n",
    "\\{},\\[],\\&,\\<,\\....\n",
    "\n",
    "**内嵌HTML标签**\n",
    "对于 Markdown 涵盖范围之外的标签，都可以直接在文件里面用 HTML 本身。如需使用 HTML，不需要额外标注这是 HTML 或是 Markdown，只需 HTML 标签添加到 Markdown 文本中即可。\n",
    "\n",
    "**表格语法**\n",
    "请使用三个或多个连字符（---）创建每列的标题，并使用管道（|）分隔每列；\n",
    "通过在标题行中的连字符的左侧，右侧或两侧添加冒号（:），将列中的文本对齐到左侧，右侧或中心。\n",
    "\n",
    "```markdown\n",
    "\n",
    "| :---        |    :----:   |          ---: |\n",
    "```\n",
    "\n",
    "**脚注**\n",
    "要创建脚注参考，请在方括号（[^1]）内添加插入符号和标识符。标识符可以是数字或单词，但不能包含空格或制表符。标识符仅将脚注参考与脚注本身相关联-在输出中，脚注按顺序编号。\n",
    "\n",
    "**任务列表语法**\n",
    "列表语法\n",
    "\n",
    "```markdown\n",
    "- [x] Write the press release\n",
    "- [ ] Update the website\n",
    "- [ ] Contact the media\n",
    "```\n",
    "\n",
    "- [x] Write the press release\n",
    "- [ ] Update the website\n",
    "- [ ] Contact the media\n",
    "\n",
    "**文本颜色**\n",
    "$\\color{green}{green}$\n",
    "$\\color{red}{green}$\n",
    "$\\color{blue}{green}$\n",
    "$\\color{grey}{green}$\n",
    "$\\color{black}{green}$"
   ]
  },
  {
   "cell_type": "code",
   "execution_count": null,
   "metadata": {},
   "outputs": [],
   "source": []
  }
 ],
 "metadata": {
  "kernelspec": {
   "display_name": "ROOT C++",
   "language": "c++",
   "name": "root"
  },
  "language_info": {
   "codemirror_mode": "text/x-c++src",
   "file_extension": ".C",
   "mimetype": " text/x-c++src",
   "name": "c++"
  }
 },
 "nbformat": 4,
 "nbformat_minor": 2
}
