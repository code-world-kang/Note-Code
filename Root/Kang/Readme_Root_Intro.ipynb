{
 "cells": [
  {
   "cell_type": "markdown",
   "metadata": {},
   "source": [
    "<h1>关于Root软件的笔记本目录<span class=\"tocSkip\"></span></h1><div class=\"toc\"><ul class=\"toc-item\">\n",
    "   <li><span><a href=\"#一、Root软件的简单介绍\" >一、Root软件的简单介绍</a></span></li><ul>\n",
    "       <li><span><a href=\"#笔记本简介\" >笔记本简介</a></span>\n",
    "       <li><span><a href=\"#关于数据分析的教程\" >关于数据分析的教程</a></span>                  </ul>\n",
    "    \n",
    "   <li><span><a href=\"#二、Root绘图操作\" >二、Root绘图操作</a></span>           <ul>\n",
    "       <li><span><a href=\"#Root拟合\" >Root拟合</a></span>                  <ul>\n",
    "           <li><span><a href=\"#多高斯拟合\" >多高斯拟合</a></span>   \n",
    "           <li><span><a href=\"#自动寻峰操作\" >自动寻峰操作</a></span>        </ul></ul>  \n",
    "        \n",
    "   <li><span><a href=\"#三、一些Root的基本操作\">三、一些Root的基本操作</a></span>    <ul>     \n",
    "       <li><span><a href=\"#TTree的使用\" >TTree的使用</a></span>\n",
    "       <li><span><a href=\"#TCut的使用\" >TCut的使用</a></span>                </ul>\n",
    "       \n",
    "   <li><span><a href=\"#四、其他\" >四、其他</a></span></li></ul></div>"
   ]
  },
  {
   "cell_type": "markdown",
   "metadata": {},
   "source": [
    "\n",
    "  "
   ]
  },
  {
   "cell_type": "markdown",
   "metadata": {},
   "source": [
    "# 一、Root软件的简单介绍"
   ]
  },
  {
   "cell_type": "markdown",
   "metadata": {},
   "source": [
    "## 记本简介\n",
    "\n",
    "该笔记本是本人在北京大学博士后王东玺师兄的学习笔记的基础上进行的扩展及其总结，如有问题，请联系weikang21@stu.pku.edu.cn"
   ]
  },
  {
   "cell_type": "markdown",
   "metadata": {},
   "source": [
    "## 关于数据分析的教程"
   ]
  },
  {
   "cell_type": "markdown",
   "metadata": {},
   "source": [
    "北京大学实验核物理课题组root数据分析相关代码：\n",
    "\n",
    "   [与Root相关的数据分析代码](https://markdown.com.cn/basic-syntax/links.html)"
   ]
  },
  {
   "cell_type": "markdown",
   "metadata": {},
   "source": [
    "# 二、Root绘图操作"
   ]
  },
  {
   "cell_type": "markdown",
   "metadata": {},
   "source": [
    "## Root拟合"
   ]
  },
  {
   "cell_type": "markdown",
   "metadata": {},
   "source": [
    "### 定义函数拟合的方法"
   ]
  },
  {
   "cell_type": "code",
   "execution_count": null,
   "metadata": {},
   "outputs": [],
   "source": []
  },
  {
   "cell_type": "markdown",
   "metadata": {},
   "source": [
    "### 多高斯拟合"
   ]
  },
  {
   "cell_type": "markdown",
   "metadata": {},
   "source": [
    "### 自动寻峰操作"
   ]
  },
  {
   "cell_type": "markdown",
   "metadata": {},
   "source": [
    "# 三、一些Root的基本操作"
   ]
  },
  {
   "cell_type": "markdown",
   "metadata": {},
   "source": [
    "## TTree的使用"
   ]
  },
  {
   "cell_type": "markdown",
   "metadata": {},
   "source": [
    "## TCut的使用"
   ]
  },
  {
   "cell_type": "markdown",
   "metadata": {},
   "source": [
    "# 四、其他"
   ]
  },
  {
   "cell_type": "code",
   "execution_count": null,
   "metadata": {},
   "outputs": [],
   "source": []
  },
  {
   "cell_type": "code",
   "execution_count": null,
   "metadata": {},
   "outputs": [],
   "source": []
  },
  {
   "cell_type": "code",
   "execution_count": null,
   "metadata": {},
   "outputs": [],
   "source": []
  },
  {
   "cell_type": "code",
   "execution_count": null,
   "metadata": {},
   "outputs": [],
   "source": []
  },
  {
   "cell_type": "code",
   "execution_count": null,
   "metadata": {},
   "outputs": [],
   "source": []
  },
  {
   "cell_type": "code",
   "execution_count": 1,
   "metadata": {},
   "outputs": [
    {
     "name": "stdout",
     "output_type": "stream",
     "text": [
      "[NbConvertApp] Converting notebook Readme_Root_Intro.ipynb to html\n",
      "\n",
      "[NbConvertApp] Writing 282027 bytes to Readme_Root_Intro.html\n",
      "\n"
     ]
    }
   ],
   "source": [
    "!jupyter nbconvert Readme_Root_Intro.ipynb --to html"
   ]
  }
 ],
 "metadata": {
  "kernelspec": {
   "display_name": "ROOT C++",
   "language": "c++",
   "name": "root"
  },
  "language_info": {
   "codemirror_mode": "text/x-c++src",
   "file_extension": ".C",
   "mimetype": " text/x-c++src",
   "name": "c++"
  }
 },
 "nbformat": 4,
 "nbformat_minor": 2
}
