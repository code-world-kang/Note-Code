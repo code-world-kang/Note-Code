{
 "cells": [
  {
   "cell_type": "code",
   "execution_count": 1,
   "metadata": {},
   "outputs": [],
   "source": [
    "%jsroot on"
   ]
  },
  {
   "cell_type": "markdown",
   "metadata": {},
   "source": [
    "### C++之继承与多态\n",
    "https://www.cnblogs.com/kunhu/p/3631285.html"
   ]
  },
  {
   "cell_type": "code",
   "execution_count": 2,
   "metadata": {},
   "outputs": [],
   "source": [
    "//Classes\n",
    "class animal1\n",
    "{\n",
    "    public:\n",
    "        void sleep(){\n",
    "            cout<<\"animal sleep\"<<endl;           \n",
    "        }\n",
    "    void breathe(){\n",
    "     cout<<\"animal breathe\"<<endl;\n",
    "    }\n",
    "};\n",
    "\n",
    "//Inheritance \n",
    "class fish1:public animal1\n",
    "{\n",
    "    public:\n",
    "        void breathe(){\n",
    "            cout<<\"fish bubble\"<<endl;\n",
    "        }\n",
    "};\n",
    " "
   ]
  },
  {
   "cell_type": "code",
   "execution_count": 3,
   "metadata": {},
   "outputs": [
    {
     "name": "stdout",
     "output_type": "stream",
     "text": [
      "animal breathe\n"
     ]
    }
   ],
   "source": [
    "    fish1 fh1;\n",
    "    animal1 *pAnimal1=&fh1;\n",
    "    pAnimal1->breathe();"
   ]
  },
  {
   "cell_type": "markdown",
   "metadata": {},
   "source": [
    " C++编译器在编译的时候，要确定每个对象调用的函数的地址，这称为早期绑定（early binding），当我们将fish类的对象fh的地址赋给pAn时，C++编译器进行了类型转换，此时C++编译器认为变量pAn保存的就是animal对象的地址。当在main()函数中执行pAn->breathe()时，调用的当然就是animal对象的breathe函数。"
   ]
  },
  {
   "cell_type": "code",
   "execution_count": 4,
   "metadata": {},
   "outputs": [],
   "source": [
    "class animal2\n",
    "{\n",
    "    public:\n",
    "        void sleep(){\n",
    "            cout<<\"animal sleep\"<<endl;\n",
    "             \n",
    "        }\n",
    "    virtual void breathe(){\n",
    "     cout<<\"animal breathe\"<<endl;\n",
    "    }\n",
    "};\n",
    "class fish2:public animal2\n",
    "{\n",
    "    public:\n",
    "        void breathe(){\n",
    "            cout<<\"fish bubble\"<<endl;\n",
    "        }\n",
    "};\n",
    " "
   ]
  },
  {
   "cell_type": "code",
   "execution_count": 5,
   "metadata": {},
   "outputs": [
    {
     "name": "stdout",
     "output_type": "stream",
     "text": [
      "fish bubble\n"
     ]
    }
   ],
   "source": [
    "   fish2 fh2;\n",
    "    animal2 *pAnimal2=&fh2;\n",
    "    pAnimal2->breathe();"
   ]
  },
  {
   "cell_type": "markdown",
   "metadata": {},
   "source": [
    "编译器为每个类的对象提供一个虚表指针，这个指针指向对象所属类的虚表。在程序运行时，根据对象的类型去初始化vptr，从而让vptr正确的指向所属类的虚表，从而在调用虚函数时，就能够找到正确的函数。由于pAn实际指向的对象类型是fish，因此vptr指向的fish类的vtable，当调用pAn->breathe()时，根据虚表中的函数地址找到的就是fish类的breathe()函数。"
   ]
  },
  {
   "cell_type": "markdown",
   "metadata": {},
   "source": [
    "### 总结： \n",
    "1、基类有虚函数：\n",
    "  2、每一个类都有虚表。\n",
    "  3、虚表可以继承，如果子类没有重写虚函数，那么子类虚表中仍然会有该函数的地址，只不过这个地址指向的是基类的虚函数实现。如果基类3个虚函数，那么基类的虚表中就有三项（虚函数地址），派生类也会有虚表，至少有三项，如果重写了相应的虚函数，那么虚表中的地址就会改变，指向自身的虚函数实现。如果派生类有自己的虚函数，那么虚表中就会添加该项。"
   ]
  },
  {
   "cell_type": "markdown",
   "metadata": {},
   "source": [
    "### C++继承中关于子类构造函数的写法\n",
    "https://www.cnblogs.com/shmilxu/p/4849097.html"
   ]
  },
  {
   "cell_type": "code",
   "execution_count": 6,
   "metadata": {},
   "outputs": [],
   "source": [
    "class Base1 {\n",
    "public:\n",
    "    Base1(int a): m_a(a) {}\n",
    " \n",
    "protected:\n",
    "    int m_a;\n",
    "};\n",
    " \n",
    "class Base2 {\n",
    "public:\n",
    "    Base2(int b, int c): m_b(b), m_c(c) {}\n",
    "    Base2() : m_b(0), m_c(0) {}\n",
    " \n",
    "protected:\n",
    "    int m_b;\n",
    "    int m_c;\n",
    "};\n",
    " \n",
    "class Intermediate1 : public Base1, virtual public Base2 {\n",
    "public:\n",
    "    Intermediate1(int a, int b, int c)\n",
    "        : Base1(a), \n",
    "          Base2(b, c)\n",
    "    {\n",
    " \n",
    "    }\n",
    "};\n",
    " \n",
    "class Intermediate2 : public Intermediate1 {\n",
    "public:\n",
    "    Intermediate2(int a, int b, int c)\n",
    "        : Intermediate1(a, b, c),\n",
    "          Base2(b, c)\n",
    "    {\n",
    " \n",
    "    }\n",
    "};\n",
    " \n",
    "class Intermediate3 : virtual public Base2 {\n",
    "public:\n",
    "    Intermediate3(int b, int c)\n",
    "        : Base2(b, c)\n",
    "    {\n",
    " \n",
    "    }\n",
    "};\n",
    " \n",
    "class Final : public Intermediate2, public Intermediate3 {\n",
    "public:\n",
    "    Final (int a, int b, int c)\n",
    "        : Base2(b, c),\n",
    "          Intermediate2(a, b, c),\n",
    "          Intermediate3(b, c)\n",
    "    {\n",
    " \n",
    "    }\n",
    " \n",
    "    void Print() {\n",
    "        cout<<m_a<<\", \"<<m_b<<\", \"<<m_c<<endl;\n",
    "    }\n",
    "};\n",
    " "
   ]
  },
  {
   "cell_type": "code",
   "execution_count": 7,
   "metadata": {},
   "outputs": [
    {
     "name": "stdout",
     "output_type": "stream",
     "text": [
      "1, 2, 3\n"
     ]
    }
   ],
   "source": [
    "    Final finalObj(1, 2, 3);\n",
    "    finalObj.Print();"
   ]
  }
 ],
 "metadata": {
  "kernelspec": {
   "display_name": "ROOT C++",
   "language": "c++",
   "name": "root"
  },
  "language_info": {
   "codemirror_mode": "text/x-c++src",
   "file_extension": ".C",
   "mimetype": " text/x-c++src",
   "name": "c++"
  }
 },
 "nbformat": 4,
 "nbformat_minor": 2
}
