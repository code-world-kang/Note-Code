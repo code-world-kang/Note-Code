{
 "cells": [
  {
   "cell_type": "markdown",
   "metadata": {},
   "source": [
    "## 读取ROOT的tree数据，进行逐事件分析"
   ]
  },
  {
   "cell_type": "markdown",
   "metadata": {},
   "source": [
    "``` cpp\n",
    "//将下列代码保存到readTree.cc\n",
    "//在ROOT环境下 .L readTree.cc\n",
    "\n",
    "TH1D *hTOF;//如果将hTOF定义写在函数体内 hTOF->Draw()将不会显示\n",
    "void readTree()\n",
    "{\n",
    "  TFile *ipf=new TFile(\"tree.root\");//打开ROOT文件\n",
    "  TTree *tree=(TTree*)ipf->Get(\"tree\");//得到tree的指针\n",
    "//tree的Branch变量\n",
    "  Double_t x;\n",
    "  Double_t E;\n",
    "  int ng;\n",
    "  Double_t TOF, nTOF;\n",
    "  Double_t tu, td;\n",
    "  Double_t Qu, Qd;\n",
    "  //将变量指向对应Branch的地址\n",
    "\n",
    "  tree->SetBranchAddress(\"nTOF\",&nTOF);\n",
    "  tree->SetBranchAddress(\"ng\",&ng);\n",
    "  tree->SetBranchAddress(\"tu\",&tu);   \n",
    "  tree->SetBranchAddress(\"td\",&td);\n",
    "  tree->SetBranchAddress(\"Qu\",&Qu);   \n",
    "  tree->SetBranchAddress(\"Qd\",&Qd);\n",
    "\n",
    " \n",
    "  //Histogram\n",
    "  hTOF=new TH1D(\"hTOF\",\"Time of flight\", 1000,0,100);\n",
    "    \n",
    "  //TFile *opf=new TFile(\"tree2.root\",\"recreate\");\n",
    "  //TTree *opt=new TTree(\"tree\",\"tree\");\n",
    "  // opt->SetBrach()...\n",
    "    \n",
    "  //逐事件读取tree的branch数据\n",
    "  Long64_t nentries=tree->GetEntries();//得到事件总数\n",
    "  for(Long64_t jentry=0; jentry<nentries; jentry++) {//对每个事件进行遍历\n",
    "    tree->GetEntry(jentry);//将第j个事件数据填入对应变量，每次变量值会变成当前事件对应的数据。\n",
    "    hTOF->Fill(nTOF);\n",
    "    //opt->Fill()\n",
    "    if(jentry%100000==0) cout<<\"process \"<<jentry<<\" of \"<<nentries<<endl;\n",
    "  }\n",
    "\n",
    "  hTOF->Draw();\n",
    "  //opt->Write();\n",
    "  //opf->Close();\n",
    "}\n",
    "\n",
    " ```"
   ]
  },
  {
   "cell_type": "code",
   "execution_count": null,
   "metadata": {},
   "outputs": [],
   "source": []
  }
 ],
 "metadata": {
  "kernelspec": {
   "display_name": "ROOT C++",
   "language": "c++",
   "name": "root"
  },
  "language_info": {
   "codemirror_mode": "text/x-c++src",
   "file_extension": ".C",
   "mimetype": " text/x-c++src",
   "name": "c++"
  }
 },
 "nbformat": 4,
 "nbformat_minor": 2
}
