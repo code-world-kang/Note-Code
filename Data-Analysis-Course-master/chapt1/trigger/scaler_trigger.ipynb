{
 "cells": [
  {
   "cell_type": "markdown",
   "metadata": {},
   "source": [
    "## Scaler & Trigger"
   ]
  },
  {
   "cell_type": "markdown",
   "metadata": {},
   "source": [
    "![](detsetup.png)\n",
    "![](setup.png)"
   ]
  },
  {
   "cell_type": "markdown",
   "metadata": {},
   "source": [
    "$$ N_{scat}(\\theta)=\\frac{d\\sigma(\\theta)}{d\\Omega} N_{inc} n_A \\Delta\\Omega(\\theta)$$"
   ]
  },
  {
   "cell_type": "markdown",
   "metadata": {},
   "source": [
    "$N_{scat}(\\theta)$=Number of scattered particles into solid angle $\\Delta\\Omega(\\theta)$\n",
    "\n",
    "$N_{inc}$= Number of incident particles into target\n",
    "\n",
    "$n_A$=area number density ($atoms/cm^2$)"
   ]
  },
  {
   "cell_type": "markdown",
   "metadata": {},
   "source": [
    "<font color=\"Blue\">The beam intensity usually exceeds several thounsands, but the acceptable triggering rate of the acquisition system usally does not exceed 3,000 in the case of VME. Therefore beam information cannot be recorded completely on a event-by-event basis.</font> \n",
    "\n",
    "<font color=\"Red\">Solution: Beam intensity is counted by Scaler</font>"
   ]
  },
  {
   "cell_type": "markdown",
   "metadata": {},
   "source": [
    "### Scaler\n",
    "![](scaler.png)"
   ]
  },
  {
   "cell_type": "markdown",
   "metadata": {},
   "source": [
    "### .Beam counts in target\n",
    "Beam counts: $I_0=N_{plastic}$\n",
    "\n",
    "Beam purity: $\\epsilon_{pid}$\n",
    "\n",
    "Tracking efficiency: $\\epsilon_{ppacxy}$\n",
    "\n",
    "$$N_{inc}=I_0 \\times \\epsilon_{pid} \\times \\epsilon_{ppacxy} \\times \\epsilon_{target}$$"
   ]
  },
  {
   "cell_type": "markdown",
   "metadata": {},
   "source": [
    "## Trigger"
   ]
  },
  {
   "attachments": {},
   "cell_type": "markdown",
   "metadata": {},
   "source": [
    "The trigger usually consists of a certain form of coincidence of the scattered particle signal detected by detectors after the target and the beam signal.\n"
   ]
  },
  {
   "cell_type": "markdown",
   "metadata": {},
   "source": [
    "TrigDet:      $pla \\bigotimes Tele$   --  1kcps"
   ]
  },
  {
   "cell_type": "markdown",
   "metadata": {},
   "source": [
    "The trigger usually also includes some auxiliary triggers, such as beam sampling trigger,  periodic pulse trigger and so on. The count rate of these triggers is adjustable – to has no big impact on the DAQ dead time"
   ]
  },
  {
   "cell_type": "markdown",
   "metadata": {},
   "source": [
    "TrigBeam: $pla/DownScale$   -- pla/3000 cps"
   ]
  },
  {
   "cell_type": "markdown",
   "metadata": {},
   "source": [
    "<font color=\"Red\"> Trigger : $TrigDet + TrigBeam$ </font>"
   ]
  },
  {
   "cell_type": "markdown",
   "metadata": {},
   "source": [
    "The source of the trigger must be marked in the event for subsequent analysis by Coincidence register or TDC"
   ]
  },
  {
   "cell_type": "markdown",
   "metadata": {},
   "source": [
    "### Coincidence register\n",
    "![](coinreg.png)"
   ]
  },
  {
   "cell_type": "markdown",
   "metadata": {},
   "source": [
    "### Beam profile at Target gated by TrigBeam\n",
    "$\\epsilon_{target}=N_{Target Range}/N_{Target Z}$\n",
    "![](beamtrig.png)"
   ]
  },
  {
   "cell_type": "markdown",
   "metadata": {},
   "source": [
    "### Beam profile at Target gated by TrigDet\n",
    "![](must2trig.png)"
   ]
  },
  {
   "cell_type": "markdown",
   "metadata": {},
   "source": [
    "## Detector efficiency\n",
    "\n",
    "$\\epsilon_{det}=\\frac{N_{detected}}{N_{incident}}$\n",
    "\n",
    "$\\epsilon_{ppacxy}=\\epsilon_{ppacx} \\times \\epsilon_{ppacy}$\n"
   ]
  },
  {
   "cell_type": "markdown",
   "metadata": {},
   "source": [
    "![](ppactrak.png)\n",
    "![](ppaceff.png)"
   ]
  },
  {
   "cell_type": "code",
   "execution_count": null,
   "metadata": {},
   "outputs": [],
   "source": []
  }
 ],
 "metadata": {
  "kernelspec": {
   "display_name": "ROOT C++",
   "language": "c++",
   "name": "root"
  },
  "language_info": {
   "codemirror_mode": "text/x-c++src",
   "file_extension": ".C",
   "mimetype": " text/x-c++src",
   "name": "c++"
  }
 },
 "nbformat": 4,
 "nbformat_minor": 2
}
