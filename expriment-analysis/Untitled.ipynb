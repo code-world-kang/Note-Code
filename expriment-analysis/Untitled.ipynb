{
 "cells": [
  {
   "cell_type": "code",
   "execution_count": 1,
   "metadata": {},
   "outputs": [],
   "source": [
    "TH1D *hTOF= new TH1D(\"hTOF\",\"Time of flight\", 1000,0,100);"
   ]
  },
  {
   "cell_type": "code",
   "execution_count": 2,
   "metadata": {},
   "outputs": [],
   "source": [
    "// 1.打开文件，得到TTree指针\n",
    "  TFile *ipf=new TFile(\"tree.root\");//打开ROOT文件\n",
    "  if (ipf->IsZombie()) {\n",
    "   cout << \"Error opening file\" << endl;\n",
    "   exit(-1);\n",
    "  }\n",
    "  ipf->cd();\n",
    "  TTree *tree=(TTree*)ipf->Get(\"tree\");//得到名字为“tree”的TTree指针\n",
    "\n",
    "//2. 声明tree的Branch变量\n",
    "\n",
    "  Double_t x;\n",
    "  Double_t e;\n",
    "  int pid;\n",
    "  Double_t tof, ctof;\n",
    "  Double_t tu, td;\n",
    "  Double_t qu, qd;"
   ]
  },
  {
   "cell_type": "code",
   "execution_count": 3,
   "metadata": {},
   "outputs": [],
   "source": [
    "//3. 将变量指向对应Branch的地址\n",
    "  tree->SetBranchAddress(\"ctof\",&ctof);//将ROOT文件内tree内名为\"ctof\"的branch的数据的指针指向ctof的变量。\n",
    "  tree->SetBranchAddress(\"tof\",&tof);  \n",
    "  tree->SetBranchAddress(\"pid\",&pid);\n",
    "  tree->SetBranchAddress(\"tu\",&tu);   \n",
    "  tree->SetBranchAddress(\"td\",&td);\n",
    "  tree->SetBranchAddress(\"qu\",&qu);   \n",
    "  tree->SetBranchAddress(\"qd\",&qd);"
   ]
  },
  {
   "cell_type": "code",
   "execution_count": 4,
   "metadata": {},
   "outputs": [
    {
     "name": "stdout",
     "output_type": "stream",
     "text": [
      "process 0 of 100000\n"
     ]
    }
   ],
   "source": [
    "Long64_t nentries=tree->GetEntries();//得到tree的事件总数\n",
    "  for(Long64_t jentry=0; jentry<nentries; jentry++) {//对事件进行遍历\n",
    "    tree->GetEntry(jentry);//将第jentry个事件数据填入对应变量(步骤3.中指向的变量)，每次变量值会变成当前事件对应的数据。\n",
    "    hTOF->Fill(ctof);\n",
    "    if(jentry%100000==0) cout<<\"process \"<<jentry<<\" of \"<<nentries<<endl;\n",
    "  }"
   ]
  },
  {
   "cell_type": "code",
   "execution_count": 5,
   "metadata": {},
   "outputs": [
    {
     "data": {
      "image/png": "[encoded data removed]",
      "text/plain": [
       "<IPython.core.display.Image object>"
      ]
     },
     "metadata": {},
     "output_type": "display_data"
    },
    {
     "name": "stderr",
     "output_type": "stream",
     "text": [
      "Info in <TCanvas::MakeDefCanvas>:  created default TCanvas with name c1\n"
     ]
    }
   ],
   "source": [
    "hTOF->Draw();\n",
    "c1->Draw();\n",
    "ipf->Close();"
   ]
  },
  {
   "cell_type": "code",
   "execution_count": null,
   "metadata": {},
   "outputs": [],
   "source": []
  },
  {
   "cell_type": "code",
   "execution_count": null,
   "metadata": {},
   "outputs": [],
   "source": []
  }
 ],
 "metadata": {
  "kernelspec": {
   "display_name": "ROOT C++",
   "language": "c++",
   "name": "root"
  },
  "language_info": {
   "codemirror_mode": "text/x-c++src",
   "file_extension": ".C",
   "mimetype": " text/x-c++src",
   "name": "c++"
  }
 },
 "nbformat": 4,
 "nbformat_minor": 2
}
